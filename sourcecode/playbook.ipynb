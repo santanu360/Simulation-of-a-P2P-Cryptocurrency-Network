{
 "cells": [
  {
   "cell_type": "code",
   "execution_count": 9,
   "metadata": {},
   "outputs": [],
   "source": [
    "from Peer import Peer\n",
    "from Transaction import Transaction"
   ]
  },
  {
   "cell_type": "code",
   "execution_count": 10,
   "metadata": {},
   "outputs": [],
   "source": [
    "n = 10 # number of peers"
   ]
  },
  {
   "cell_type": "code",
   "execution_count": 11,
   "metadata": {},
   "outputs": [],
   "source": [
    "peers = [ Peer(i, False) for i in range(n) ]"
   ]
  },
  {
   "cell_type": "code",
   "execution_count": 13,
   "metadata": {},
   "outputs": [
    {
     "ename": "AttributeError",
     "evalue": "'Peer' object has no attribute 'connected_peers'",
     "output_type": "error",
     "traceback": [
      "\u001b[0;31m---------------------------------------------------------------------------\u001b[0m",
      "\u001b[0;31mAttributeError\u001b[0m                            Traceback (most recent call last)",
      "Cell \u001b[0;32mIn[13], line 9\u001b[0m\n\u001b[1;32m      7\u001b[0m \u001b[39mfor\u001b[39;00m neighbour \u001b[39min\u001b[39;00m random_neighbours:\n\u001b[1;32m      8\u001b[0m     \u001b[39mif\u001b[39;00m neighbour \u001b[39m!=\u001b[39m peer: \u001b[39m# don't add yourself as a neighbour\u001b[39;00m\n\u001b[0;32m----> 9\u001b[0m         peer\u001b[39m.\u001b[39;49mconnect(neighbour) \u001b[39m# add neighbour to peer\u001b[39;00m\n",
      "File \u001b[0;32m~/Documents/IITB acad/CS765/assignment 01/Peer.py:11\u001b[0m, in \u001b[0;36mPeer.connect\u001b[0;34m(self, peer)\u001b[0m\n\u001b[1;32m     10\u001b[0m \u001b[39mdef\u001b[39;00m \u001b[39mconnect\u001b[39m(\u001b[39mself\u001b[39m, peer):\n\u001b[0;32m---> 11\u001b[0m     \u001b[39mself\u001b[39;49m\u001b[39m.\u001b[39;49mconnected_peers\u001b[39m.\u001b[39mappend(peer)\n",
      "\u001b[0;31mAttributeError\u001b[0m: 'Peer' object has no attribute 'connected_peers'"
     ]
    }
   ],
   "source": [
    "# generate random number from 3 to 6\n",
    "import random\n",
    "\n",
    "for peer in peers:\n",
    "    num_neighbours = random.randint(4, 6) # choose random number of neighbours\n",
    "    random_neighbours = random.sample(peers, num_neighbours) # choose random neighbours\n",
    "    for neighbour in random_neighbours:\n",
    "        if neighbour != peer: # don't add yourself as a neighbour\n",
    "            peer.connect(neighbour) # add neighbour to peer"
   ]
  }
 ],
 "metadata": {
  "kernelspec": {
   "display_name": "Python 3",
   "language": "python",
   "name": "python3"
  },
  "language_info": {
   "codemirror_mode": {
    "name": "ipython",
    "version": 3
   },
   "file_extension": ".py",
   "mimetype": "text/x-python",
   "name": "python",
   "nbconvert_exporter": "python",
   "pygments_lexer": "ipython3",
   "version": "3.11.6"
  },
  "orig_nbformat": 4
 },
 "nbformat": 4,
 "nbformat_minor": 2
}
